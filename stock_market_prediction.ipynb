{
  "nbformat": 4,
  "nbformat_minor": 0,
  "metadata": {
    "colab": {
      "provenance": [],
      "authorship_tag": "ABX9TyN4igsOWnTizVaRw9rIp429",
      "include_colab_link": true
    },
    "kernelspec": {
      "name": "python3",
      "display_name": "Python 3"
    },
    "language_info": {
      "name": "python"
    }
  },
  "cells": [
    {
      "cell_type": "markdown",
      "metadata": {
        "id": "view-in-github",
        "colab_type": "text"
      },
      "source": [
        "<a href=\"https://colab.research.google.com/github/SdShreyaSd/SdShreyaSd.github.io/blob/main/stock_market_prediction.ipynb\" target=\"_parent\"><img src=\"https://colab.research.google.com/assets/colab-badge.svg\" alt=\"Open In Colab\"/></a>"
      ]
    },
    {
      "cell_type": "code",
      "execution_count": 29,
      "metadata": {
        "id": "3aSuejgUOR9i"
      },
      "outputs": [],
      "source": [
        "import tensorflow as tf"
      ]
    },
    {
      "cell_type": "code",
      "source": [
        "import matplotlib.pyplot as plt\n",
        "import numpy as np\n",
        "import pandas as pd\n",
        "import pandas_datareader as web\n",
        "import datetime as dt\n",
        "from sklearn.preprocessing import MinMaxScaler"
      ],
      "metadata": {
        "id": "5EDdtWpaOYQ-"
      },
      "execution_count": 30,
      "outputs": []
    },
    {
      "cell_type": "code",
      "source": [
        "from tensorflow.keras.models import Sequential\n",
        "from tensorflow.keras.layers import Dense , LSTM , Dropout"
      ],
      "metadata": {
        "id": "Hk88mt5zOy5V"
      },
      "execution_count": 31,
      "outputs": []
    },
    {
      "cell_type": "code",
      "source": [
        "company = 'AAPL'\n"
      ],
      "metadata": {
        "id": "aXKhePaLPEnN"
      },
      "execution_count": 32,
      "outputs": []
    },
    {
      "cell_type": "code",
      "source": [
        "start = dt.datetime(2012,1,1)\n",
        "end = dt.datetime(2023,1,1)\n",
        "!ping www.yahoo.com\n"
      ],
      "metadata": {
        "colab": {
          "base_uri": "https://localhost:8080/"
        },
        "id": "0WY-D6zeSxyx",
        "outputId": "8879cc97-3820-4eb5-905f-6ce5cc0734d1"
      },
      "execution_count": 87,
      "outputs": [
        {
          "output_type": "stream",
          "name": "stdout",
          "text": [
            "/bin/bash: line 1: ping: command not found\n"
          ]
        }
      ]
    },
    {
      "cell_type": "code",
      "source": [
        "data = web.DataReader(company,'stooq',start,end)"
      ],
      "metadata": {
        "id": "Furd5_xZS_x9"
      },
      "execution_count": 88,
      "outputs": []
    },
    {
      "cell_type": "code",
      "source": [
        "scaler = MinMaxScaler(feature_range=(0,1))\n",
        "scaled_data = scaler.fit_transform(data['Close'].values.reshape(-1,1))\n",
        "prediction_days = 60"
      ],
      "metadata": {
        "id": "hrpUpKrSTMbP"
      },
      "execution_count": 89,
      "outputs": []
    },
    {
      "cell_type": "code",
      "source": [
        "x_train =[]\n",
        "y_train=[]\n",
        "for x in range(prediction_days,len(scaled_data)):\n",
        "  x_train.append(scaled_data[x-prediction_days:x,0])\n",
        "  y_train.append(scaled_data[x,0])"
      ],
      "metadata": {
        "id": "_pzdGIVdU_94"
      },
      "execution_count": 90,
      "outputs": []
    },
    {
      "cell_type": "code",
      "source": [
        "x_train,y_train = np.array(x_train),np.array(y_train)\n",
        "x_train = np.reshape(x_train,(x_train.shape[0],x_train.shape[1],1))\n",
        "y_train = y_train.reshape(-1,1)"
      ],
      "metadata": {
        "id": "M2JH559CbhdK"
      },
      "execution_count": 91,
      "outputs": []
    },
    {
      "cell_type": "code",
      "source": [
        "model = Sequential()\n"
      ],
      "metadata": {
        "id": "LDFRlgmyWkB3"
      },
      "execution_count": 92,
      "outputs": []
    },
    {
      "cell_type": "code",
      "source": [
        "model.add(LSTM(units=50,return_sequences=True,input_shape = (x_train.shape[1],1)))\n",
        "model.add(Dropout(0.2))\n",
        "model.add(LSTM(units=50,return_sequences=True))\n",
        "model.add(Dropout(0.2))\n",
        "model.add(LSTM(units=50))\n",
        "model.add(Dropout(0.2))\n",
        "model.add(Dense(units=1))\n",
        "\n",
        "model.compile(optimizer='adam',loss='mean_squared_error')\n",
        "model.fit(x_train,y_train,epochs=70,batch_size=45)\n"
      ],
      "metadata": {
        "colab": {
          "base_uri": "https://localhost:8080/"
        },
        "id": "_yTy7kmSWqW6",
        "outputId": "2603a853-22f7-4832-e163-68c095c88ebe"
      },
      "execution_count": 93,
      "outputs": [
        {
          "output_type": "stream",
          "name": "stdout",
          "text": [
            "Epoch 1/70\n",
            "61/61 [==============================] - 11s 83ms/step - loss: 0.0140\n",
            "Epoch 2/70\n",
            "61/61 [==============================] - 7s 109ms/step - loss: 0.0028\n",
            "Epoch 3/70\n",
            "61/61 [==============================] - 5s 82ms/step - loss: 0.0017\n",
            "Epoch 4/70\n",
            "61/61 [==============================] - 6s 103ms/step - loss: 0.0018\n",
            "Epoch 5/70\n",
            "61/61 [==============================] - 5s 81ms/step - loss: 0.0017\n",
            "Epoch 6/70\n",
            "61/61 [==============================] - 6s 91ms/step - loss: 0.0017\n",
            "Epoch 7/70\n",
            "61/61 [==============================] - 6s 100ms/step - loss: 0.0016\n",
            "Epoch 8/70\n",
            "61/61 [==============================] - 5s 82ms/step - loss: 0.0017\n",
            "Epoch 9/70\n",
            "61/61 [==============================] - 6s 105ms/step - loss: 0.0015\n",
            "Epoch 10/70\n",
            "61/61 [==============================] - 5s 84ms/step - loss: 0.0014\n",
            "Epoch 11/70\n",
            "61/61 [==============================] - 6s 106ms/step - loss: 0.0015\n",
            "Epoch 12/70\n",
            "61/61 [==============================] - 5s 85ms/step - loss: 0.0013\n",
            "Epoch 13/70\n",
            "61/61 [==============================] - 5s 81ms/step - loss: 0.0015\n",
            "Epoch 14/70\n",
            "61/61 [==============================] - 7s 109ms/step - loss: 0.0015\n",
            "Epoch 15/70\n",
            "61/61 [==============================] - 5s 88ms/step - loss: 0.0013\n",
            "Epoch 16/70\n",
            "61/61 [==============================] - 6s 103ms/step - loss: 0.0015\n",
            "Epoch 17/70\n",
            "61/61 [==============================] - 5s 90ms/step - loss: 0.0013\n",
            "Epoch 18/70\n",
            "61/61 [==============================] - 6s 106ms/step - loss: 0.0013\n",
            "Epoch 19/70\n",
            "61/61 [==============================] - 5s 89ms/step - loss: 0.0010\n",
            "Epoch 20/70\n",
            "61/61 [==============================] - 5s 81ms/step - loss: 0.0012\n",
            "Epoch 21/70\n",
            "61/61 [==============================] - 6s 103ms/step - loss: 0.0011\n",
            "Epoch 22/70\n",
            "61/61 [==============================] - 5s 82ms/step - loss: 0.0012\n",
            "Epoch 23/70\n",
            "61/61 [==============================] - 7s 111ms/step - loss: 0.0013\n",
            "Epoch 24/70\n",
            "61/61 [==============================] - 5s 86ms/step - loss: 0.0012\n",
            "Epoch 25/70\n",
            "61/61 [==============================] - 6s 93ms/step - loss: 0.0014\n",
            "Epoch 26/70\n",
            "61/61 [==============================] - 6s 97ms/step - loss: 0.0011\n",
            "Epoch 27/70\n",
            "61/61 [==============================] - 5s 85ms/step - loss: 0.0011\n",
            "Epoch 28/70\n",
            "61/61 [==============================] - 6s 106ms/step - loss: 0.0012\n",
            "Epoch 29/70\n",
            "61/61 [==============================] - 5s 84ms/step - loss: 0.0010\n",
            "Epoch 30/70\n",
            "61/61 [==============================] - 7s 109ms/step - loss: 9.9749e-04\n",
            "Epoch 31/70\n",
            "61/61 [==============================] - 5s 88ms/step - loss: 0.0011\n",
            "Epoch 32/70\n",
            "61/61 [==============================] - 5s 89ms/step - loss: 0.0013\n",
            "Epoch 33/70\n",
            "61/61 [==============================] - 6s 102ms/step - loss: 9.7266e-04\n",
            "Epoch 34/70\n",
            "61/61 [==============================] - 5s 87ms/step - loss: 9.1967e-04\n",
            "Epoch 35/70\n",
            "61/61 [==============================] - 7s 110ms/step - loss: 8.8730e-04\n",
            "Epoch 36/70\n",
            "61/61 [==============================] - 5s 83ms/step - loss: 8.6251e-04\n",
            "Epoch 37/70\n",
            "61/61 [==============================] - 7s 109ms/step - loss: 0.0010\n",
            "Epoch 38/70\n",
            "61/61 [==============================] - 5s 82ms/step - loss: 0.0010\n",
            "Epoch 39/70\n",
            "61/61 [==============================] - 5s 85ms/step - loss: 9.9850e-04\n",
            "Epoch 40/70\n",
            "61/61 [==============================] - 6s 106ms/step - loss: 9.4576e-04\n",
            "Epoch 41/70\n",
            "61/61 [==============================] - 7s 109ms/step - loss: 0.0010\n",
            "Epoch 42/70\n",
            "61/61 [==============================] - 7s 108ms/step - loss: 8.3821e-04\n",
            "Epoch 43/70\n",
            "61/61 [==============================] - 5s 82ms/step - loss: 7.7422e-04\n",
            "Epoch 44/70\n",
            "61/61 [==============================] - 6s 104ms/step - loss: 8.3296e-04\n",
            "Epoch 45/70\n",
            "61/61 [==============================] - 5s 86ms/step - loss: 9.0836e-04\n",
            "Epoch 46/70\n",
            "61/61 [==============================] - 6s 93ms/step - loss: 8.9698e-04\n",
            "Epoch 47/70\n",
            "61/61 [==============================] - 6s 98ms/step - loss: 9.3972e-04\n",
            "Epoch 48/70\n",
            "61/61 [==============================] - 5s 84ms/step - loss: 8.8197e-04\n",
            "Epoch 49/70\n",
            "61/61 [==============================] - 7s 108ms/step - loss: 8.4760e-04\n",
            "Epoch 50/70\n",
            "61/61 [==============================] - 5s 87ms/step - loss: 8.3839e-04\n",
            "Epoch 51/70\n",
            "61/61 [==============================] - 6s 104ms/step - loss: 0.0012\n",
            "Epoch 52/70\n",
            "61/61 [==============================] - 5s 83ms/step - loss: 8.6144e-04\n",
            "Epoch 53/70\n",
            "61/61 [==============================] - 5s 85ms/step - loss: 8.1118e-04\n",
            "Epoch 54/70\n",
            "61/61 [==============================] - 6s 101ms/step - loss: 8.6478e-04\n",
            "Epoch 55/70\n",
            "61/61 [==============================] - 5s 85ms/step - loss: 7.8269e-04\n",
            "Epoch 56/70\n",
            "61/61 [==============================] - 6s 106ms/step - loss: 7.5511e-04\n",
            "Epoch 57/70\n",
            "61/61 [==============================] - 5s 83ms/step - loss: 8.2475e-04\n",
            "Epoch 58/70\n",
            "61/61 [==============================] - 6s 101ms/step - loss: 9.3387e-04\n",
            "Epoch 59/70\n",
            "61/61 [==============================] - 5s 87ms/step - loss: 7.8928e-04\n",
            "Epoch 60/70\n",
            "61/61 [==============================] - 5s 84ms/step - loss: 7.6976e-04\n",
            "Epoch 61/70\n",
            "61/61 [==============================] - 7s 109ms/step - loss: 8.6824e-04\n",
            "Epoch 62/70\n",
            "61/61 [==============================] - 5s 83ms/step - loss: 7.6195e-04\n",
            "Epoch 63/70\n",
            "61/61 [==============================] - 7s 108ms/step - loss: 7.9366e-04\n",
            "Epoch 64/70\n",
            "61/61 [==============================] - 5s 82ms/step - loss: 7.6600e-04\n",
            "Epoch 65/70\n",
            "61/61 [==============================] - 6s 95ms/step - loss: 7.5523e-04\n",
            "Epoch 66/70\n",
            "61/61 [==============================] - 6s 91ms/step - loss: 8.4442e-04\n",
            "Epoch 67/70\n",
            "61/61 [==============================] - 5s 81ms/step - loss: 8.4972e-04\n",
            "Epoch 68/70\n",
            "61/61 [==============================] - 7s 107ms/step - loss: 7.5807e-04\n",
            "Epoch 69/70\n",
            "61/61 [==============================] - 5s 85ms/step - loss: 7.6521e-04\n",
            "Epoch 70/70\n",
            "61/61 [==============================] - 6s 104ms/step - loss: 7.1105e-04\n"
          ]
        },
        {
          "output_type": "execute_result",
          "data": {
            "text/plain": [
              "<keras.src.callbacks.History at 0x78605dc254e0>"
            ]
          },
          "metadata": {},
          "execution_count": 93
        }
      ]
    },
    {
      "cell_type": "code",
      "source": [
        "test_start = dt.datetime(2023,1,1)\n",
        "test_end = dt.datetime.now()"
      ],
      "metadata": {
        "id": "h0wvB8BXcBAf"
      },
      "execution_count": 94,
      "outputs": []
    },
    {
      "cell_type": "code",
      "source": [
        "test_data = web.DataReader(company,'stooq',test_start,test_end)"
      ],
      "metadata": {
        "id": "_yo-R_eUgoHr"
      },
      "execution_count": 95,
      "outputs": []
    },
    {
      "cell_type": "code",
      "source": [
        "actual_prices = test_data['Close'].values"
      ],
      "metadata": {
        "id": "ze9c-lOLhVbf"
      },
      "execution_count": 96,
      "outputs": []
    },
    {
      "cell_type": "code",
      "source": [
        "total_data = pd.concat([data['Close'], test_data['Close']])\n"
      ],
      "metadata": {
        "id": "SFEUTRaEhZ3u"
      },
      "execution_count": 97,
      "outputs": []
    },
    {
      "cell_type": "code",
      "source": [
        "model_inputs = total_data[len(total_data)-len(test_data)-prediction_days:].values"
      ],
      "metadata": {
        "id": "xQod6a3Rhs28"
      },
      "execution_count": 98,
      "outputs": []
    },
    {
      "cell_type": "code",
      "source": [
        "model_inputs = model_inputs.reshape(-1,1)"
      ],
      "metadata": {
        "id": "YOh33Eg2ijn3"
      },
      "execution_count": 99,
      "outputs": []
    },
    {
      "cell_type": "code",
      "source": [
        "model_inputs = scaler.transform(model_inputs)"
      ],
      "metadata": {
        "id": "kXvJmR5hin6n"
      },
      "execution_count": 100,
      "outputs": []
    },
    {
      "cell_type": "code",
      "source": [
        "x_test=[]\n",
        "for x in range (prediction_days ,400):\n",
        "  x_test.append(model_inputs[x-prediction_days:x,0])\n",
        "\n",
        "x_test = np.array(x_test)\n",
        "x_train = np.reshape(x_test,(x_test.shape[0],x_test.shape[1],1))\n"
      ],
      "metadata": {
        "id": "JVNOyj_aite_"
      },
      "execution_count": 101,
      "outputs": []
    },
    {
      "cell_type": "code",
      "source": [
        "prediction = model.predict(x_test)\n",
        "prediction = scaler.inverse_transform(prediction)"
      ],
      "metadata": {
        "colab": {
          "base_uri": "https://localhost:8080/"
        },
        "id": "ZFAA5MwoqPcf",
        "outputId": "d4957e81-49ae-4016-d9cf-bdebe8d5b52a"
      },
      "execution_count": 102,
      "outputs": [
        {
          "output_type": "stream",
          "name": "stdout",
          "text": [
            "11/11 [==============================] - 2s 25ms/step\n"
          ]
        }
      ]
    },
    {
      "cell_type": "code",
      "source": [
        "prediction"
      ],
      "metadata": {
        "colab": {
          "base_uri": "https://localhost:8080/"
        },
        "id": "JHckgRSxN5Jd",
        "outputId": "acbd2541-2ff6-4019-f903-32e348c1a733"
      },
      "execution_count": 103,
      "outputs": [
        {
          "output_type": "execute_result",
          "data": {
            "text/plain": [
              "array([[ 12.586901],\n",
              "       [ 27.777214],\n",
              "       [ 63.1706  ],\n",
              "       [109.581825],\n",
              "       [149.80249 ],\n",
              "       [174.01181 ],\n",
              "       [181.42941 ],\n",
              "       [178.43794 ],\n",
              "       [171.39705 ],\n",
              "       [164.48155 ],\n",
              "       [158.96825 ],\n",
              "       [155.88002 ],\n",
              "       [155.18188 ],\n",
              "       [156.11711 ],\n",
              "       [157.90712 ],\n",
              "       [159.85806 ],\n",
              "       [161.91646 ],\n",
              "       [163.88623 ],\n",
              "       [165.68518 ],\n",
              "       [167.56514 ],\n",
              "       [169.76648 ],\n",
              "       [171.54329 ],\n",
              "       [171.56102 ],\n",
              "       [170.69998 ],\n",
              "       [169.3515  ],\n",
              "       [168.1888  ],\n",
              "       [167.32573 ],\n",
              "       [166.96777 ],\n",
              "       [166.90414 ],\n",
              "       [167.20634 ],\n",
              "       [167.90416 ],\n",
              "       [168.99821 ],\n",
              "       [169.59047 ],\n",
              "       [169.85808 ],\n",
              "       [170.08864 ],\n",
              "       [170.14575 ],\n",
              "       [171.17604 ],\n",
              "       [172.31061 ],\n",
              "       [172.87808 ],\n",
              "       [172.76038 ],\n",
              "       [172.2959  ],\n",
              "       [171.46782 ],\n",
              "       [170.90367 ],\n",
              "       [170.59653 ],\n",
              "       [170.22572 ],\n",
              "       [169.61133 ],\n",
              "       [168.96597 ],\n",
              "       [168.58675 ],\n",
              "       [169.20992 ],\n",
              "       [171.09671 ],\n",
              "       [173.60114 ],\n",
              "       [176.0278  ],\n",
              "       [178.02908 ],\n",
              "       [179.09511 ],\n",
              "       [179.55981 ],\n",
              "       [179.88153 ],\n",
              "       [179.78572 ],\n",
              "       [179.35164 ],\n",
              "       [178.94052 ],\n",
              "       [178.91612 ],\n",
              "       [179.23503 ],\n",
              "       [179.86462 ],\n",
              "       [180.90282 ],\n",
              "       [182.26813 ],\n",
              "       [183.47353 ],\n",
              "       [184.48218 ],\n",
              "       [185.14337 ],\n",
              "       [185.20337 ],\n",
              "       [184.60222 ],\n",
              "       [183.89745 ],\n",
              "       [182.94151 ],\n",
              "       [182.61249 ],\n",
              "       [183.37648 ],\n",
              "       [184.81755 ],\n",
              "       [186.63402 ],\n",
              "       [188.3161  ],\n",
              "       [189.63112 ],\n",
              "       [190.21454 ],\n",
              "       [189.84903 ],\n",
              "       [188.53464 ],\n",
              "       [186.02966 ],\n",
              "       [183.4922  ],\n",
              "       [181.8674  ],\n",
              "       [181.16989 ],\n",
              "       [181.30359 ],\n",
              "       [181.7501  ],\n",
              "       [182.3202  ],\n",
              "       [182.13484 ],\n",
              "       [181.5791  ],\n",
              "       [181.26709 ],\n",
              "       [181.41107 ],\n",
              "       [182.89223 ],\n",
              "       [185.09656 ],\n",
              "       [187.1513  ],\n",
              "       [188.5714  ],\n",
              "       [189.3438  ],\n",
              "       [189.72977 ],\n",
              "       [189.84528 ],\n",
              "       [190.13542 ],\n",
              "       [190.33646 ],\n",
              "       [190.7262  ],\n",
              "       [191.26283 ],\n",
              "       [191.77202 ],\n",
              "       [191.64133 ],\n",
              "       [190.91016 ],\n",
              "       [190.40117 ],\n",
              "       [189.96533 ],\n",
              "       [189.38208 ],\n",
              "       [189.01086 ],\n",
              "       [188.2384  ],\n",
              "       [187.65985 ],\n",
              "       [187.14001 ],\n",
              "       [186.67796 ],\n",
              "       [186.50327 ],\n",
              "       [186.44731 ],\n",
              "       [186.48764 ],\n",
              "       [186.77287 ],\n",
              "       [187.03319 ],\n",
              "       [187.32594 ],\n",
              "       [187.28151 ],\n",
              "       [187.01877 ],\n",
              "       [186.40515 ],\n",
              "       [185.61153 ],\n",
              "       [184.46892 ],\n",
              "       [183.59232 ],\n",
              "       [182.471   ],\n",
              "       [181.48387 ],\n",
              "       [180.62296 ],\n",
              "       [179.61768 ],\n",
              "       [178.31038 ],\n",
              "       [177.18971 ],\n",
              "       [175.87892 ],\n",
              "       [174.20064 ],\n",
              "       [172.51033 ],\n",
              "       [170.8304  ],\n",
              "       [169.26222 ],\n",
              "       [168.64362 ],\n",
              "       [169.11821 ],\n",
              "       [170.11348 ],\n",
              "       [171.13611 ],\n",
              "       [172.2801  ],\n",
              "       [173.30257 ],\n",
              "       [174.20757 ],\n",
              "       [175.07869 ],\n",
              "       [175.76869 ],\n",
              "       [176.47974 ],\n",
              "       [176.93195 ],\n",
              "       [176.90895 ],\n",
              "       [176.68542 ],\n",
              "       [176.18689 ],\n",
              "       [175.24852 ],\n",
              "       [174.04558 ],\n",
              "       [172.75319 ],\n",
              "       [171.88217 ],\n",
              "       [171.11176 ],\n",
              "       [170.46127 ],\n",
              "       [169.96304 ],\n",
              "       [169.876   ],\n",
              "       [170.68715 ],\n",
              "       [171.73773 ],\n",
              "       [172.53773 ],\n",
              "       [173.19724 ],\n",
              "       [174.17458 ],\n",
              "       [175.0142  ],\n",
              "       [175.11783 ],\n",
              "       [174.81212 ],\n",
              "       [174.10393 ],\n",
              "       [173.61504 ],\n",
              "       [173.87057 ],\n",
              "       [174.4149  ],\n",
              "       [174.91449 ],\n",
              "       [176.08067 ],\n",
              "       [178.54361 ],\n",
              "       [181.32965 ],\n",
              "       [183.40904 ],\n",
              "       [184.5094  ],\n",
              "       [184.2188  ],\n",
              "       [182.5552  ],\n",
              "       [180.20058 ],\n",
              "       [177.63387 ],\n",
              "       [176.21141 ],\n",
              "       [175.31085 ],\n",
              "       [174.69627 ],\n",
              "       [174.15378 ],\n",
              "       [173.67075 ],\n",
              "       [173.6951  ],\n",
              "       [174.18486 ],\n",
              "       [175.16043 ],\n",
              "       [175.96423 ],\n",
              "       [176.46013 ],\n",
              "       [176.66379 ],\n",
              "       [176.8799  ],\n",
              "       [176.92609 ],\n",
              "       [177.3252  ],\n",
              "       [179.32074 ],\n",
              "       [182.22144 ],\n",
              "       [185.52109 ],\n",
              "       [188.43419 ],\n",
              "       [190.3208  ],\n",
              "       [190.72812 ],\n",
              "       [190.38182 ],\n",
              "       [189.58447 ],\n",
              "       [188.61734 ],\n",
              "       [187.68698 ],\n",
              "       [187.22137 ],\n",
              "       [187.51505 ],\n",
              "       [188.04604 ],\n",
              "       [188.65298 ],\n",
              "       [188.65045 ],\n",
              "       [188.24278 ],\n",
              "       [187.5707  ],\n",
              "       [186.63689 ],\n",
              "       [185.83199 ],\n",
              "       [185.6181  ],\n",
              "       [186.01639 ],\n",
              "       [186.6286  ],\n",
              "       [187.38835 ],\n",
              "       [188.2964  ],\n",
              "       [188.38524 ],\n",
              "       [187.85843 ],\n",
              "       [186.88069 ],\n",
              "       [185.417   ],\n",
              "       [184.18605 ],\n",
              "       [183.4373  ],\n",
              "       [182.69234 ],\n",
              "       [182.23866 ],\n",
              "       [182.04486 ],\n",
              "       [182.2149  ],\n",
              "       [182.24615 ],\n",
              "       [182.04584 ],\n",
              "       [181.79303 ],\n",
              "       [181.12001 ],\n",
              "       [180.23909 ],\n",
              "       [178.98639 ],\n",
              "       [177.95042 ],\n",
              "       [177.33113 ],\n",
              "       [177.31012 ],\n",
              "       [177.5307  ],\n",
              "       [177.3829  ],\n",
              "       [176.98557 ],\n",
              "       [176.21764 ],\n",
              "       [174.99365 ],\n",
              "       [173.54063 ],\n",
              "       [172.18723 ],\n",
              "       [171.55618 ],\n",
              "       [171.67525 ],\n",
              "       [172.21562 ],\n",
              "       [172.50885 ],\n",
              "       [172.4241  ],\n",
              "       [172.08794 ],\n",
              "       [171.7314  ],\n",
              "       [171.61389 ],\n",
              "       [171.64874 ],\n",
              "       [171.48956 ],\n",
              "       [171.46098 ],\n",
              "       [171.54033 ],\n",
              "       [170.51524 ],\n",
              "       [169.16182 ],\n",
              "       [168.05238 ],\n",
              "       [167.5109  ],\n",
              "       [167.4682  ],\n",
              "       [167.5458  ],\n",
              "       [166.95757 ],\n",
              "       [165.9907  ],\n",
              "       [165.1937  ],\n",
              "       [164.64627 ],\n",
              "       [164.5946  ],\n",
              "       [165.0126  ],\n",
              "       [165.46133 ],\n",
              "       [165.60855 ],\n",
              "       [165.49031 ],\n",
              "       [165.26945 ],\n",
              "       [164.24635 ],\n",
              "       [162.95477 ],\n",
              "       [161.93112 ],\n",
              "       [161.6858  ],\n",
              "       [161.89424 ],\n",
              "       [162.58649 ],\n",
              "       [163.51848 ],\n",
              "       [164.209   ],\n",
              "       [164.19661 ],\n",
              "       [163.47351 ],\n",
              "       [161.99362 ],\n",
              "       [160.39697 ],\n",
              "       [159.33961 ],\n",
              "       [158.69128 ],\n",
              "       [158.25027 ],\n",
              "       [158.18797 ],\n",
              "       [158.11098 ],\n",
              "       [157.65378 ],\n",
              "       [157.10507 ],\n",
              "       [156.20818 ],\n",
              "       [155.16309 ],\n",
              "       [153.91643 ],\n",
              "       [152.47246 ],\n",
              "       [151.41347 ],\n",
              "       [151.132   ],\n",
              "       [151.25389 ],\n",
              "       [151.86241 ],\n",
              "       [152.26643 ],\n",
              "       [151.67645 ],\n",
              "       [150.37953 ],\n",
              "       [149.14348 ],\n",
              "       [148.29721 ],\n",
              "       [147.71371 ],\n",
              "       [147.7315  ],\n",
              "       [148.08412 ],\n",
              "       [148.49121 ],\n",
              "       [149.37361 ],\n",
              "       [150.60538 ],\n",
              "       [152.06024 ],\n",
              "       [153.08022 ],\n",
              "       [153.66643 ],\n",
              "       [153.4777  ],\n",
              "       [152.79445 ],\n",
              "       [152.09645 ],\n",
              "       [151.94937 ],\n",
              "       [151.85101 ],\n",
              "       [152.14418 ],\n",
              "       [152.15692 ],\n",
              "       [151.19368 ],\n",
              "       [149.55565 ],\n",
              "       [147.62025 ],\n",
              "       [146.24487 ],\n",
              "       [145.28874 ],\n",
              "       [144.46425 ],\n",
              "       [143.89122 ],\n",
              "       [143.37515 ],\n",
              "       [142.51414 ],\n",
              "       [141.16512 ],\n",
              "       [139.66827 ],\n",
              "       [138.42227 ],\n",
              "       [137.4141  ],\n",
              "       [136.5225  ],\n",
              "       [135.81024 ],\n",
              "       [134.95305 ],\n",
              "       [133.99423 ],\n",
              "       [133.02563 ],\n",
              "       [131.61586 ],\n",
              "       [130.21751 ]], dtype=float32)"
            ]
          },
          "metadata": {},
          "execution_count": 103
        }
      ]
    },
    {
      "cell_type": "code",
      "source": [
        "plt.plot(actual_prices , color='red')\n",
        "plt.plot(prediction)\n",
        "\n",
        "plt.show()"
      ],
      "metadata": {
        "colab": {
          "base_uri": "https://localhost:8080/",
          "height": 430
        },
        "id": "Wi9fyeHIOqkN",
        "outputId": "7a2e430f-7b93-4a36-a716-b92954ca0634"
      },
      "execution_count": 121,
      "outputs": [
        {
          "output_type": "display_data",
          "data": {
            "text/plain": [
              "<Figure size 640x480 with 1 Axes>"
            ],
            "image/png": "[encoded data removed]"
          },
          "metadata": {}
        }
      ]
    },
    {
      "cell_type": "code",
      "source": [
        "plt.plot(prediction)\n",
        "plt.show()"
      ],
      "metadata": {
        "colab": {
          "base_uri": "https://localhost:8080/",
          "height": 434
        },
        "id": "3ch_sWImO2AD",
        "outputId": "aee6e91e-5df7-498a-97bc-1557795d40c9"
      },
      "execution_count": 105,
      "outputs": [
        {
          "output_type": "display_data",
          "data": {
            "text/plain": [
              "<Figure size 640x480 with 1 Axes>"
            ],
            "image/png": "[encoded data removed]"
          },
          "metadata": {}
        }
      ]
    },
    {
      "cell_type": "code",
      "source": [
        "real_data = [model_inputs[-60:-1,0]]\n",
        "real_data"
      ],
      "metadata": {
        "id": "cWB57N-BPIMU",
        "colab": {
          "base_uri": "https://localhost:8080/"
        },
        "outputId": "ec6b48ed-abf0-47cb-b0de-842227796ca6"
      },
      "execution_count": 116,
      "outputs": [
        {
          "output_type": "execute_result",
          "data": {
            "text/plain": [
              "[array([0.88046927, 0.86199612, 0.86572627, 0.87739041, 0.86957485,\n",
              "        0.86306188, 0.87164715, 0.8605159 , 0.84630579, 0.85133853,\n",
              "        0.83440482, 0.83203646, 0.8194842 , 0.80782006, 0.8201947 ,\n",
              "        0.83369431, 0.82617479, 0.83937835, 0.82279989, 0.79248498,\n",
              "        0.78893245, 0.8013663 , 0.80438595, 0.79722169, 0.81314885,\n",
              "        0.81024762, 0.80770164, 0.83179963, 0.83866785, 0.84825968,\n",
              "        0.8356482 , 0.83949677, 0.82268147, 0.82185255, 0.82806947,\n",
              "        0.84423348, 0.82694451, 0.84334534, 0.8215565 , 0.78964296,\n",
              "        0.78289316, 0.77525522, 0.7926034 , 0.78093926, 0.76850542,\n",
              "        0.77247241, 0.76406476, 0.7448811 , 0.72948681, 0.72913156,\n",
              "        0.7334538 , 0.72646716, 0.71847398, 0.71894765, 0.70260602,\n",
              "        0.69917191, 0.69603384, 0.66879779, 0.67673177])]"
            ]
          },
          "metadata": {},
          "execution_count": 116
        }
      ]
    },
    {
      "cell_type": "code",
      "source": [
        "real_data = real_data = np.array(real_data)\n",
        "real_data = np.reshape(real_data, (1, real_data.shape[1]))\n",
        "\n",
        "real_data"
      ],
      "metadata": {
        "colab": {
          "base_uri": "https://localhost:8080/"
        },
        "id": "EarUWt9JuKFK",
        "outputId": "ef723479-7b90-4f4a-8a53-9de095b9f054"
      },
      "execution_count": 117,
      "outputs": [
        {
          "output_type": "execute_result",
          "data": {
            "text/plain": [
              "array([[0.88046927, 0.86199612, 0.86572627, 0.87739041, 0.86957485,\n",
              "        0.86306188, 0.87164715, 0.8605159 , 0.84630579, 0.85133853,\n",
              "        0.83440482, 0.83203646, 0.8194842 , 0.80782006, 0.8201947 ,\n",
              "        0.83369431, 0.82617479, 0.83937835, 0.82279989, 0.79248498,\n",
              "        0.78893245, 0.8013663 , 0.80438595, 0.79722169, 0.81314885,\n",
              "        0.81024762, 0.80770164, 0.83179963, 0.83866785, 0.84825968,\n",
              "        0.8356482 , 0.83949677, 0.82268147, 0.82185255, 0.82806947,\n",
              "        0.84423348, 0.82694451, 0.84334534, 0.8215565 , 0.78964296,\n",
              "        0.78289316, 0.77525522, 0.7926034 , 0.78093926, 0.76850542,\n",
              "        0.77247241, 0.76406476, 0.7448811 , 0.72948681, 0.72913156,\n",
              "        0.7334538 , 0.72646716, 0.71847398, 0.71894765, 0.70260602,\n",
              "        0.69917191, 0.69603384, 0.66879779, 0.67673177]])"
            ]
          },
          "metadata": {},
          "execution_count": 117
        }
      ]
    },
    {
      "cell_type": "code",
      "source": [
        "\n",
        "predicts = model.predict(real_data)\n",
        "predicts"
      ],
      "metadata": {
        "colab": {
          "base_uri": "https://localhost:8080/"
        },
        "id": "QQaxJ6daugLB",
        "outputId": "b21f2cb5-f9d2-42a7-db3b-969e551a3092"
      },
      "execution_count": 118,
      "outputs": [
        {
          "output_type": "stream",
          "name": "stdout",
          "text": [
            "1/1 [==============================] - 0s 67ms/step\n"
          ]
        },
        {
          "output_type": "execute_result",
          "data": {
            "text/plain": [
              "array([[0.69957185]], dtype=float32)"
            ]
          },
          "metadata": {},
          "execution_count": 118
        }
      ]
    },
    {
      "cell_type": "code",
      "source": [
        "predicts = scaler.inverse_transform(predicts)"
      ],
      "metadata": {
        "id": "BlLK-fJzvANN"
      },
      "execution_count": 119,
      "outputs": []
    },
    {
      "cell_type": "code",
      "source": [],
      "metadata": {
        "id": "S6rQ3w-BXO_w"
      },
      "execution_count": 119,
      "outputs": []
    },
    {
      "cell_type": "code",
      "source": [
        "print(predicts)"
      ],
      "metadata": {
        "colab": {
          "base_uri": "https://localhost:8080/"
        },
        "id": "_FthgppZx_Wa",
        "outputId": "ececa113-5ed6-4da5-d564-6992f66c78c9"
      },
      "execution_count": 120,
      "outputs": [
        {
          "output_type": "stream",
          "name": "stdout",
          "text": [
            "[[130.21754]]\n"
          ]
        }
      ]
    },
    {
      "cell_type": "code",
      "source": [],
      "metadata": {
        "id": "p20coU_7yB4F"
      },
      "execution_count": 115,
      "outputs": []
    },
    {
      "cell_type": "code",
      "source": [],
      "metadata": {
        "id": "8v9HEOUNYnQh"
      },
      "execution_count": 110,
      "outputs": []
    }
  ]
}